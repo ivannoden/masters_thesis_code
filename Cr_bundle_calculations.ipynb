{
 "cells": [
  {
   "cell_type": "code",
   "execution_count": 1,
   "metadata": {},
   "outputs": [],
   "source": [
    "import itertools\n",
    "    \n",
    "def bruhat_decomp_tokens(rank, flip_index):\n",
    "    index = rank - flip_index + 1\n",
    "    cell_dimensions = []\n",
    "\n",
    "    range_of_first_counter = rank-index + 1\n",
    "    token_counter_ranges = [range(2*index + k) for k in range(rank-index+1)]\n",
    "    token_counter_possibilities = itertools.product(*token_counter_ranges)\n",
    "\n",
    "    token_counter_valid = []\n",
    "\n",
    "    for possibility in token_counter_possibilities:\n",
    "        flag = True\n",
    "\n",
    "        for i in range(len(possibility)-1):\n",
    "            if possibility[i+1] > possibility[i] + 1:\n",
    "                flag = False\n",
    "                break\n",
    "            if possibility[i] <= index + i - 1 and possibility[i+1] > possibility[i]:\n",
    "                flag = False\n",
    "                break\n",
    "\n",
    "        if flag == True:\n",
    "            token_counter_valid.append(possibility)\n",
    "\n",
    "    return token_counter_valid  \n",
    "    \n",
    "def dimensions_of_cells(shortest_elements):\n",
    "    y = [x.length() for x in shortest_elements]\n",
    "    y.sort()\n",
    "    return y\n",
    "\n",
    "\n",
    "# This only works for bundles where only one weight has a negative which is dominant! Luckily that is all we need\n",
    "def find_dual_rep(bundle):\n",
    "    weights = bundle.weight_multiplicities()\n",
    "    highest_weight_of_dual = 0\n",
    "    for weight in weights:\n",
    "        if (-weight).is_dominant():\n",
    "            highest_weight_of_dual = -weight\n",
    "            break\n",
    "    return WeylCharacterRing(bundle.cartan_type())(highest_weight_of_dual)\n",
    "\n",
    "def weyl_action(weight, i, cartan_matrix):\n",
    "    return [x-y for x,y in zip(weight,cartan_matrix.columns()[i] * weight[i])]\n",
    "\n",
    "def to_fw_basis(weight):\n",
    "    reversed_fw = []\n",
    "    temp_weight = list(weight)\n",
    "    for i in range(len(temp_weight)):\n",
    "        entry = temp_weight.pop()\n",
    "        reversed_fw.append(entry)\n",
    "        temp_weight = [x-entry for x in temp_weight]\n",
    "        \n",
    "    return reversed_fw[::-1]\n",
    "\n",
    "def to_L_basis(weight):\n",
    "    fw_weight = [0 for j in range(len(weight))]\n",
    "    for i in range(len(weight)):\n",
    "        fw_weight_add  = [weight[i] for j in range(i+1)]\n",
    "        for j in range(len(weight) - i-1):\n",
    "            fw_weight_add.append(0)\n",
    "        fw_weight = [a + b for a,b in zip(fw_weight_add, fw_weight)]\n",
    "    return fw_weight\n",
    "\n",
    "def borel_weil_bott(group_type, weight):\n",
    "    rk = len(weight)\n",
    "    cartan_matrix = CartanMatrix([group_type, rk])\n",
    "    \n",
    "    weight = to_fw_basis(weight)\n",
    "    degree = 0\n",
    "    weight = [x+1 for x in weight]\n",
    "    \n",
    "    while any(j < 0 for j in weight):\n",
    "        for i in range(len(weight)):\n",
    "            if weight[i] < 0:\n",
    "                weight = weyl_action(weight, i, cartan_matrix);\n",
    "                degree += 1\n",
    "\n",
    "    weight = [x-1 for x in weight]\n",
    "\n",
    "    if not any(j < 0 for j in weight):\n",
    "        weight_in_L_basis = to_L_basis(weight)\n",
    "        return [WeylCharacterRing([group_type, rk])(*weight_in_L_basis).degree(), degree]\n",
    "    else:\n",
    "        return \"No cohomology\""
   ]
  },
  {
   "cell_type": "markdown",
   "metadata": {
    "collapsed": false,
    "jupyter": {
     "outputs_hidden": false
    }
   },
   "source": [
    "1. Choose case to work on and then calculate the rank and corresponding maximal parabolic to consider\n",
    "\n"
   ]
  },
  {
   "cell_type": "code",
   "execution_count": 2,
   "metadata": {
    "collapsed": false,
    "jupyter": {
     "outputs_hidden": false
    }
   },
   "outputs": [],
   "source": [
    "r = 2\n",
    "\n",
    "rank = 3*r - 1\n",
    "maximal_parabolic_indices = [2*r-1,2*r]\n",
    "cartan_type = CartanType([\"C\", rank])"
   ]
  },
  {
   "cell_type": "markdown",
   "metadata": {
    "collapsed": false,
    "jupyter": {
     "outputs_hidden": false
    }
   },
   "source": [
    "2. Set root system, Weyl group, character ring, etc."
   ]
  },
  {
   "cell_type": "code",
   "execution_count": 3,
   "metadata": {
    "collapsed": false,
    "jupyter": {
     "outputs_hidden": false
    }
   },
   "outputs": [],
   "source": [
    "root_system = RootSystem(cartan_type)\n",
    "root_space = root_system.ambient_space()\n",
    "weyl_group = root_space.weyl_group()\n",
    "char_ring = WeylCharacterRing(cartan_type)\n",
    "weight_ring = WeightRing(char_ring)\n",
    "\n",
    "fundamental_weights = root_space.fundamental_weights()"
   ]
  },
  {
   "cell_type": "markdown",
   "metadata": {},
   "source": [
    "3. Find Bruhat Cells"
   ]
  },
  {
   "cell_type": "code",
   "execution_count": 4,
   "metadata": {},
   "outputs": [],
   "source": [
    "maximal_parabolic_bruhat_cells = [bruhat_decomp_tokens(rank, index) for index in maximal_parabolic_indices]"
   ]
  },
  {
   "cell_type": "markdown",
   "metadata": {},
   "source": [
    "4. Compare Bruhat Decompositions"
   ]
  },
  {
   "cell_type": "code",
   "execution_count": 5,
   "metadata": {},
   "outputs": [
    {
     "data": {
      "text/plain": [
       "True"
      ]
     },
     "execution_count": 5,
     "metadata": {},
     "output_type": "execute_result"
    }
   ],
   "source": [
    "sorted([sum(token) for token in maximal_parabolic_bruhat_cells[0]]) == sorted([sum(token) for token in maximal_parabolic_bruhat_cells[1]])"
   ]
  },
  {
   "cell_type": "markdown",
   "metadata": {},
   "source": [
    "5. Set character rings of parabolics and find the pushforward of the line bundle"
   ]
  },
  {
   "cell_type": "code",
   "execution_count": 6,
   "metadata": {},
   "outputs": [],
   "source": [
    "parabolic_character_rings = [WeylCharacterRing(CartanType([\"A\", index-1], [\"C\", rank-index])) for index in maximal_parabolic_indices]\n",
    "parabolic_weight_rings = [WeightRing(parabolic_character_ring) for parabolic_character_ring in parabolic_character_rings]\n",
    "parabolic_space_weyl_groups = [parabolic_weight_ring.space().weyl_group() for parabolic_weight_ring in parabolic_weight_rings]\n",
    "\n",
    "pullback_bundle_weight = [2 for i in range(maximal_parabolic_indices[0])]\n",
    "pullback_bundle_weight.append(1)\n",
    "\n",
    "push_forward_bundles = [character_ring(*pullback_bundle_weight) for character_ring in parabolic_character_rings]"
   ]
  },
  {
   "cell_type": "markdown",
   "metadata": {},
   "source": [
    "6. Get dimension of push forward bundles"
   ]
  },
  {
   "cell_type": "code",
   "execution_count": 7,
   "metadata": {},
   "outputs": [
    {
     "name": "stdout",
     "output_type": "stream",
     "text": [
      "The bundle A2xC2(2,2,2,1,0) has weights {(2, 2, 2, 1, 0): 1, (2, 2, 2, 0, 1): 1, (2, 2, 2, 0, -1): 1, (2, 2, 2, -1, 0): 1} and rank 4\n",
      "The bundle A3xC1(2,2,2,1,0) has weights {(2, 2, 2, 1, 0): 1, (2, 2, 1, 2, 0): 1, (2, 1, 2, 2, 0): 1, (1, 2, 2, 2, 0): 1} and rank 4\n"
     ]
    }
   ],
   "source": [
    "for bundle in push_forward_bundles:\n",
    "    print(f\"The bundle {bundle} has weights {bundle.weight_multiplicities()} and rank {bundle.degree()}\")"
   ]
  },
  {
   "cell_type": "markdown",
   "metadata": {},
   "source": [
    "7. Calculate dual bundles"
   ]
  },
  {
   "cell_type": "code",
   "execution_count": 8,
   "metadata": {},
   "outputs": [
    {
     "name": "stdout",
     "output_type": "stream",
     "text": [
      "One dual is A2xC2(-2,-2,-2,1,0)\n",
      "One dual is A3xC1(-1,-2,-2,-2,0)\n"
     ]
    }
   ],
   "source": [
    "dual_bundles = [find_dual_rep(bundle) for bundle in push_forward_bundles]\n",
    "\n",
    "for bundle in dual_bundles:\n",
    "    print(f\"One dual is {bundle}\")"
   ]
  },
  {
   "cell_type": "markdown",
   "metadata": {},
   "source": [
    "8. Calculate exterior powers"
   ]
  },
  {
   "cell_type": "code",
   "execution_count": 9,
   "metadata": {},
   "outputs": [],
   "source": [
    "exterior_power_bundles = [[dual_bundle.exterior_power(i) for i in range(1, bundle.degree()+1)] for dual_bundle in dual_bundles]"
   ]
  },
  {
   "cell_type": "code",
   "execution_count": 10,
   "metadata": {},
   "outputs": [
    {
     "data": {
      "text/plain": [
       "[[A2xC2(-2,-2,-2,1,0),\n",
       "  A2xC2(-4,-4,-4,0,0) + A2xC2(-4,-4,-4,1,1),\n",
       "  A2xC2(-6,-6,-6,1,0),\n",
       "  A2xC2(-8,-8,-8,0,0)],\n",
       " [A3xC1(-1,-2,-2,-2,0),\n",
       "  A3xC1(-3,-3,-4,-4,0),\n",
       "  A3xC1(-5,-5,-5,-6,0),\n",
       "  A3xC1(-7,-7,-7,-7,0)]]"
      ]
     },
     "execution_count": 10,
     "metadata": {},
     "output_type": "execute_result"
    }
   ],
   "source": [
    "exterior_power_bundles"
   ]
  },
  {
   "cell_type": "markdown",
   "metadata": {},
   "source": [
    "9. Tensor exterior powers with line bundle and find cohomologies in entries of the Koszul complex"
   ]
  },
  {
   "cell_type": "code",
   "execution_count": 11,
   "metadata": {},
   "outputs": [
    {
     "name": "stdout",
     "output_type": "stream",
     "text": [
      "Dimension of (1, 1, 1, 0, 0) is 110 \n",
      "\n",
      "Finding cohomology of [-1, -1, -1, 1, 0]\n",
      "No cohomology\n",
      "\n",
      "\n",
      "Finding cohomology of [-3, -3, -3, 1, 1]\n",
      "No cohomology\n",
      "\n",
      "\n",
      "Finding cohomology of [-3, -3, -3, 0, 0]\n",
      "No cohomology\n",
      "\n",
      "\n",
      "Finding cohomology of [-5, -5, -5, 1, 0]\n",
      "No cohomology\n",
      "\n",
      "\n",
      "Finding cohomology of [-7, -7, -7, 0, 0]\n",
      "No cohomology\n",
      "\n",
      "\n"
     ]
    }
   ],
   "source": [
    "rho = sum(fundamental_weights)\n",
    "\n",
    "twist = 1\n",
    "\n",
    "print(f\"Dimension of {(twist,)*(2*r-1)  + (0,)*(rank-2*r+1)} is {char_ring(twist*fundamental_weights[2*r-1]).degree()} \\n\")\n",
    "\n",
    "irreps = [parabolic_character_rings[0](wt[0]) for i in range(len(exterior_power_bundles[0])) for wt in list(exterior_power_bundles[0][i])]\n",
    "\n",
    "for irrep in irreps:\n",
    "    wt = irrep.highest_weight()\n",
    "    wt = [x[1] for x in wt]\n",
    "    for i in range(rank-len(wt)):\n",
    "        wt.append(0)\n",
    "\n",
    "    for i in range(2*r-1):\n",
    "        wt[i] += twist\n",
    "\n",
    "    print(f\"Finding cohomology of {wt}\")\n",
    "    print(borel_weil_bott(\"C\", wt))\n",
    "    print(\"\\n\")"
   ]
  },
  {
   "cell_type": "code",
   "execution_count": 12,
   "metadata": {},
   "outputs": [
    {
     "name": "stdout",
     "output_type": "stream",
     "text": [
      "Dimension of (1, 1, 1, 1, 0) is 165 \n",
      "\n",
      "Finding cohomology of [-1, -1, -1, 2, 0]\n",
      "No cohomology\n",
      "\n",
      "\n",
      "Finding cohomology of [-3, -3, -3, 2, 1]\n",
      "No cohomology\n",
      "\n",
      "\n",
      "Finding cohomology of [-3, -3, -3, 1, 0]\n",
      "No cohomology\n",
      "\n",
      "\n",
      "Finding cohomology of [-5, -5, -5, 2, 0]\n",
      "No cohomology\n",
      "\n",
      "\n",
      "Finding cohomology of [-7, -7, -7, 1, 0]\n",
      "No cohomology\n",
      "\n",
      "\n"
     ]
    }
   ],
   "source": [
    "rho = sum(fundamental_weights)\n",
    "\n",
    "twist = 1\n",
    "\n",
    "print(f\"Dimension of {(twist,)*(2*r)  + (0,)*(rank-2*r)} is {char_ring(twist*fundamental_weights[2*r]).degree()} \\n\")\n",
    "\n",
    "irreps = [parabolic_character_rings[0](wt[0]) for i in range(len(exterior_power_bundles[0])) for wt in list(exterior_power_bundles[0][i])]\n",
    "\n",
    "for irrep in irreps:\n",
    "    wt = irrep.highest_weight()\n",
    "    wt = [x[1] for x in wt]\n",
    "    for i in range(rank-len(wt)):\n",
    "        wt.append(0)\n",
    "\n",
    "    for i in range(2*r):\n",
    "        wt[i] += twist\n",
    "\n",
    "    print(f\"Finding cohomology of {wt}\")\n",
    "    print(borel_weil_bott(\"C\", wt))\n",
    "    print(\"\\n\")"
   ]
  },
  {
   "cell_type": "code",
   "execution_count": null,
   "metadata": {},
   "outputs": [],
   "source": []
  }
 ],
 "metadata": {
  "kernelspec": {
   "display_name": "SageMath 10.5",
   "language": "sage",
   "name": "sagemath"
  },
  "language_info": {
   "codemirror_mode": {
    "name": "ipython",
    "version": 3
   },
   "file_extension": ".py",
   "mimetype": "text/x-python",
   "name": "python",
   "nbconvert_exporter": "python",
   "pygments_lexer": "ipython3",
   "version": "3.13.1"
  }
 },
 "nbformat": 4,
 "nbformat_minor": 4
}
