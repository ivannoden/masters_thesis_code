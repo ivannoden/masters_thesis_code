{
 "cells": [
  {
   "cell_type": "code",
   "execution_count": 26,
   "metadata": {},
   "outputs": [],
   "source": [
    "def generate_parabolic_weyl_group(index, weyl_group):\n",
    "    return weyl_group.subgroup([r for r in weyl_group.simple_reflections() if r != weyl_group.simple_reflections()[index]])\n",
    "\n",
    "def shortest_elements_in_cosets(weyl_group, parabolic_weyl_group):\n",
    "    shortest_elements = []\n",
    "    progress_ticker = 1\n",
    "    order = weyl_group.order()\n",
    "    parabolic_order = parabolic_weyl_group.order()\n",
    "    number_of_cosets = order/parabolic_order\n",
    "    parabolic_sorted_list = sorted([weyl_group.one() *x for x in parabolic_weyl_group])\n",
    "    cosets_list = [parabolic_sorted_list]\n",
    "\n",
    "    \n",
    "    for w in weyl_group:\n",
    "        print(f\"Found coset {progress_ticker}/{number_of_cosets} ({round(progress_ticker/number_of_cosets * 100, 1)}%)                                        \", end=\"\\r\")\n",
    "        \n",
    "        if len(cosets_list) >= number_of_cosets:\n",
    "            break\n",
    "\n",
    "        if w in parabolic_weyl_group:\n",
    "            continue\n",
    "        \n",
    "        coset = sorted([w*x for x in parabolic_weyl_group])\n",
    "        \n",
    "        if coset not in cosets_list:\n",
    "            cosets_list.append(coset)\n",
    "            progress_ticker = progress_ticker + 1\n",
    "        \n",
    "    progress_ticker = 1\n",
    "    \n",
    "    for coset in cosets_list:\n",
    "        print(f\"Checked coset {progress_ticker}/{number_of_cosets} ({round(progress_ticker/number_of_cosets * 100, 1)}%)                                        \", end=\"\\r\")\n",
    "\n",
    "        shortest_in_coset = min(coset, key=(lambda x : x.length()))\n",
    "        shortest_elements.append(shortest_in_coset)\n",
    "        \n",
    "        progress_ticker = progress_ticker + 1\n",
    "        \n",
    "    return shortest_elements\n",
    "\n",
    "def dimensions_of_cells(shortest_elements):\n",
    "    y = [x.length() for x in shortest_elements]\n",
    "    y.sort()\n",
    "    return y\n",
    "\n",
    "def translate_word(weyl_group, word):\n",
    "    if word == (weyl_group.one()).word_problem(weyl_group.gens()):\n",
    "        return [\"e\"]\n",
    "    output = []\n",
    "    for a in word:\n",
    "        index = weyl_group.simple_reflections().list().index(a[0])\n",
    "        output.append(\"s\" + str(index+1))\n",
    "    return output\n",
    "\n",
    "def translate_element(weyl_group, element):\n",
    "    word = element.word_problem(weyl_group.gens())\n",
    "    return translate_word(weyl_group, word)"
   ]
  },
  {
   "cell_type": "markdown",
   "metadata": {},
   "source": [
    "1. Enter group type and rank"
   ]
  },
  {
   "cell_type": "code",
   "execution_count": 27,
   "metadata": {},
   "outputs": [],
   "source": [
    "group_type = \"F\"\n",
    "rank = 4"
   ]
  },
  {
   "cell_type": "markdown",
   "metadata": {},
   "source": [
    "2. Give indices of simple roots to omit for the maximal parabolic"
   ]
  },
  {
   "cell_type": "code",
   "execution_count": 28,
   "metadata": {},
   "outputs": [],
   "source": [
    "indices = [2,3]"
   ]
  },
  {
   "cell_type": "markdown",
   "metadata": {},
   "source": [
    "3. Calculate"
   ]
  },
  {
   "cell_type": "code",
   "execution_count": 29,
   "metadata": {},
   "outputs": [],
   "source": [
    "weyl_group = WeylGroup(CartanType([group_type, rank]))\n",
    "parabolic_subgroups_weyl = [generate_parabolic_weyl_group(i, weyl_group) for i in indices]"
   ]
  },
  {
   "cell_type": "code",
   "execution_count": 30,
   "metadata": {},
   "outputs": [
    {
     "name": "stdout",
     "output_type": "stream",
     "text": [
      "Checked coset 96/96 (100.0%)                                        "
     ]
    }
   ],
   "source": [
    "shortest_element_lists = [shortest_elements_in_cosets(weyl_group, P) for P in parabolic_subgroups_weyl]"
   ]
  },
  {
   "cell_type": "markdown",
   "metadata": {},
   "source": [
    "4. We now list the dimensions of the Bruhat cells. Hence G/P_i is a sum of L^i as i ranges over the entries in these lists"
   ]
  },
  {
   "cell_type": "code",
   "execution_count": 31,
   "metadata": {},
   "outputs": [],
   "source": [
    "dimensions_bruhat_cells = [dimensions_of_cells(shortest) for shortest in shortest_element_lists]"
   ]
  },
  {
   "cell_type": "code",
   "execution_count": 37,
   "metadata": {},
   "outputs": [
    {
     "name": "stdout",
     "output_type": "stream",
     "text": [
      "[0, 1, 2, 2, 3, 3, 3, 4, 4, 4, 4, 5, 5, 5, 5, 5, 6, 6, 6, 6, 6, 6, 7, 7, 7, 7, 7, 7, 7, 8, 8, 8, 8, 8, 8, 8, 9, 9, 9, 9, 9, 9, 9, 9, 10, 10, 10, 10, 10, 10, 10, 10, 11, 11, 11, 11, 11, 11, 11, 11, 12, 12, 12, 12, 12, 12, 12, 13, 13, 13, 13, 13, 13, 13, 14, 14, 14, 14, 14, 14, 15, 15, 15, 15, 15, 16, 16, 16, 16, 17, 17, 17, 18, 18, 19, 20]\n"
     ]
    }
   ],
   "source": [
    "print(dimensions_bruhat_cells[0])"
   ]
  },
  {
   "cell_type": "code",
   "execution_count": 38,
   "metadata": {},
   "outputs": [
    {
     "name": "stdout",
     "output_type": "stream",
     "text": [
      "[0, 1, 2, 2, 3, 3, 3, 4, 4, 4, 4, 5, 5, 5, 5, 5, 6, 6, 6, 6, 6, 6, 7, 7, 7, 7, 7, 7, 7, 8, 8, 8, 8, 8, 8, 8, 9, 9, 9, 9, 9, 9, 9, 9, 10, 10, 10, 10, 10, 10, 10, 10, 11, 11, 11, 11, 11, 11, 11, 11, 12, 12, 12, 12, 12, 12, 12, 13, 13, 13, 13, 13, 13, 13, 14, 14, 14, 14, 14, 14, 15, 15, 15, 15, 15, 16, 16, 16, 16, 17, 17, 17, 18, 18, 19, 20]\n"
     ]
    }
   ],
   "source": [
    "print(dimensions_bruhat_cells[1])"
   ]
  },
  {
   "cell_type": "markdown",
   "metadata": {},
   "source": [
    "5. Check if Bruhat decompositions are the same and hence if the G/P_i are equal in the Grothendieck ring of varieties"
   ]
  },
  {
   "cell_type": "code",
   "execution_count": 34,
   "metadata": {},
   "outputs": [
    {
     "data": {
      "text/plain": [
       "True"
      ]
     },
     "execution_count": 34,
     "metadata": {},
     "output_type": "execute_result"
    }
   ],
   "source": [
    "dimensions_bruhat_cells[0] == dimensions_bruhat_cells[1]"
   ]
  }
 ],
 "metadata": {
  "kernelspec": {
   "display_name": "SageMath 10.5",
   "language": "sage",
   "name": "sagemath"
  },
  "language_info": {
   "codemirror_mode": {
    "name": "ipython",
    "version": 3
   },
   "file_extension": ".py",
   "mimetype": "text/x-python",
   "name": "python",
   "nbconvert_exporter": "python",
   "pygments_lexer": "ipython3",
   "version": "3.13.1"
  }
 },
 "nbformat": 4,
 "nbformat_minor": 4
}
